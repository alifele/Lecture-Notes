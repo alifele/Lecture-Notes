{
 "cells": [
  {
   "cell_type": "code",
   "execution_count": 1,
   "id": "886f223a-d795-4446-8d71-0ee5b82f1b65",
   "metadata": {},
   "outputs": [],
   "source": [
    "import numpy as np\n",
    "import matplotlib.pyplot as plt"
   ]
  },
  {
   "cell_type": "code",
   "execution_count": 4,
   "id": "69f234a4-f805-4805-8686-991b1c9a8a4f",
   "metadata": {},
   "outputs": [],
   "source": [
    "class Tau:\n",
    "    def __init__(self):\n",
    "        self.vectors = [np.array([0,1]),np.array([1,0]),np.array([0,-1]),\"stall\"]\n",
    "    def __mul__(self, b):\n",
    "        return b\n",
    "\n",
    "    def __pow__(self,n):\n",
    "        return tau\n",
    "\n",
    "    def __getitem__(self,i):\n",
    "        return self.vectors[i]\n",
    "\n",
    "class Sigma_1:\n",
    "    def __init__(self):\n",
    "        self.vectors = [np.array([1,0]),np.array([0,1]),np.array([-1,0]),\"stall\"]\n",
    "        \n",
    "    def __mul__(self, b):\n",
    "        if b == tau:\n",
    "            return sigma_1\n",
    "        if b == sigma_1:\n",
    "            return tau\n",
    "        if b == sigma_2:\n",
    "            return sigma_3\n",
    "        if b == sigma_3:\n",
    "            return sigma_2\n",
    "            \n",
    "    def __getitem__(self,i):\n",
    "        return self.vectors[i]\n",
    "        \n",
    "    def __pow__(self,n):\n",
    "        if n == 0:\n",
    "            return tau\n",
    "        result = sigma_1\n",
    "        for i in range(n-1):\n",
    "            result *= sigma_1\n",
    "        return result\n",
    "\n",
    "\n",
    "class Sigma_2:\n",
    "    def __init__(self):\n",
    "        self.vectors = [np.array([-1,0]),np.array([0,-1]),np.array([1,0]),\"stall\"]\n",
    "        \n",
    "    def __mul__(self, b):\n",
    "        if b == tau:\n",
    "            return sigma_2\n",
    "        if b == sigma_1:\n",
    "            return sigma_3\n",
    "        if b == sigma_2:\n",
    "            return tau\n",
    "        if b == sigma_3:\n",
    "            return sigma_1\n",
    "\n",
    "    def __getitem__(self,i):\n",
    "        return self.vectors[i]\n",
    "\n",
    "    def __pow__(self,n):\n",
    "        if n == 0:\n",
    "            return tau\n",
    "        result = sigma_2\n",
    "        for i in range(n-1):\n",
    "            result *= sigma_2\n",
    "        return result\n",
    "        \n",
    "\n",
    "class Sigma_3:\n",
    "    def __init__(self):\n",
    "        self.vectors = [np.array([0,-1]),np.array([-1,0]),np.array([0,1]),\"stall\"]\n",
    "    def __getitem__(self,i):\n",
    "        return self.vectors[i]\n",
    "    def __mul__(self, b):\n",
    "        if b == tau:\n",
    "            return sigma_3\n",
    "        if b == sigma_1:\n",
    "            return sigma_2\n",
    "        if b == sigma_2:\n",
    "            return sigma_1\n",
    "        if b == sigma_3:\n",
    "            return tau\n",
    "\n",
    "\n",
    "\n",
    "def base4(number, degree):\n",
    "    result = [0 for i in range(degree)]\n",
    "    for i in range(degree):\n",
    "        result[-i-1]=number%4\n",
    "        number = number//4\n",
    "\n",
    "    return result\n"
   ]
  },
  {
   "cell_type": "code",
   "execution_count": null,
   "id": "b156ed86-6d7c-481b-a921-c3391cc6a8f3",
   "metadata": {},
   "outputs": [],
   "source": []
  },
  {
   "cell_type": "code",
   "execution_count": 7,
   "id": "cbf59662-bf36-4449-b4d1-6e3d959f168c",
   "metadata": {},
   "outputs": [
    {
     "name": "stderr",
     "output_type": "stream",
     "text": [
      "/tmp/ipykernel_78342/1029473263.py:24: FutureWarning: elementwise comparison failed; returning scalar instead, but in the future will perform elementwise comparison\n",
      "  while mover[ID[-1-counter]] == \"stall\":\n"
     ]
    }
   ],
   "source": [
    "sigma_1 = Sigma_1()\n",
    "sigma_2 = Sigma_2()\n",
    "sigma_3 = Sigma_3()\n",
    "tau = Tau()\n",
    "\n",
    "d = 4\n",
    "init = sigma_1**(d)\n",
    "origin = np.array([0,0])\n",
    "orderedGuiderList = [sigma_1,tau,tau,sigma_2]\n",
    "positionsList = []\n",
    "positionsList.append(np.copy(origin))\n",
    "endFlag = 0\n",
    "for i in range(4**d):\n",
    "    ID = base4(i,d) ## for instance ID = [1,3,2] when degree=3\n",
    "    currentMoveGuideList = [] ## for example moveGuide=[tau,sigma_1,tau] for d=3\n",
    "    currentMoveGuideList.append(tau)\n",
    "    counter = 0\n",
    "    for base4ID in ID[:-1]:\n",
    "        currentMoveGuideList.append((currentMoveGuideList[-1])*orderedGuiderList[base4ID])\n",
    "        counter += 1\n",
    "\n",
    "    counter = 0\n",
    "    mover = currentMoveGuideList[-1-counter]\n",
    "    while mover[ID[-1-counter]] == \"stall\":\n",
    "        counter += 1\n",
    "        if (counter == d):\n",
    "            endFlag = 1\n",
    "            break\n",
    "        mover = currentMoveGuideList[-1-counter]\n",
    "\n",
    "    # print(mover[ID[-1-counter]])\n",
    "    if (endFlag == 0):\n",
    "       origin += mover[ID[-1-counter]] \n",
    "        \n",
    "    positionsList.append(np.copy(origin))\n",
    "\n",
    "\n",
    "\n",
    "    \n",
    "positionsList = np.array(positionsList)"
   ]
  },
  {
   "cell_type": "code",
   "execution_count": 8,
   "id": "38f38b00-9c78-40ca-900f-84ea2e34444c",
   "metadata": {},
   "outputs": [
    {
     "data": {
      "text/plain": [
       "(-0.75, 15.75, -0.75, 15.75)"
      ]
     },
     "execution_count": 8,
     "metadata": {},
     "output_type": "execute_result"
    },
    {
     "data": {
      "image/png": "[encoded data removed]",
      "text/plain": [
       "<Figure size 500x500 with 1 Axes>"
      ]
     },
     "metadata": {},
     "output_type": "display_data"
    }
   ],
   "source": [
    "fig = plt.figure(figsize=(5,5))\n",
    "plt.plot(positionsList[:,0],positionsList[:,1])\n",
    "plt.axis(\"square\")"
   ]
  },
  {
   "cell_type": "code",
   "execution_count": null,
   "id": "397b281d-fd0c-4ef8-80cb-ec018eef06f5",
   "metadata": {},
   "outputs": [],
   "source": []
  }
 ],
 "metadata": {
  "kernelspec": {
   "display_name": "Python (Computation)",
   "language": "python",
   "name": "computation"
  },
  "language_info": {
   "codemirror_mode": {
    "name": "ipython",
    "version": 3
   },
   "file_extension": ".py",
   "mimetype": "text/x-python",
   "name": "python",
   "nbconvert_exporter": "python",
   "pygments_lexer": "ipython3",
   "version": "3.10.12"
  }
 },
 "nbformat": 4,
 "nbformat_minor": 5
}
