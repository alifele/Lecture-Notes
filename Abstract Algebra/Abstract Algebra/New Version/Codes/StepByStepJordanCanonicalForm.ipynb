{
 "cells": [
  {
   "cell_type": "code",
   "execution_count": 8,
   "id": "cfa4bd62-a8a4-47e8-bd67-5b950d3b2131",
   "metadata": {},
   "outputs": [],
   "source": [
    "import sympy as sp\n",
    "from sympy import Matrix"
   ]
  },
  {
   "cell_type": "markdown",
   "id": "e9cec04a-d1da-4b5e-b77f-4fcfa9b6a3b4",
   "metadata": {},
   "source": [
    "# How to calculate the Jordan normal form of a matrix"
   ]
  },
  {
   "cell_type": "markdown",
   "id": "24c5a60b-23f5-415c-8ce9-6beaed747daa",
   "metadata": {},
   "source": [
    "Consider the following matrix"
   ]
  },
  {
   "cell_type": "code",
   "execution_count": 9,
   "id": "9f72e63f-1110-42a1-bee1-0cf164badc25",
   "metadata": {},
   "outputs": [
    {
     "data": {
      "text/latex": [
       "$\\displaystyle \\left[\\begin{matrix}5 & 1 & -2 & 4\\\\0 & 5 & 2 & 2\\\\0 & 0 & 5 & 3\\\\0 & 0 & 0 & 4\\end{matrix}\\right]$"
      ],
      "text/plain": [
       "Matrix([\n",
       "[5, 1, -2, 4],\n",
       "[0, 5,  2, 2],\n",
       "[0, 0,  5, 3],\n",
       "[0, 0,  0, 4]])"
      ]
     },
     "execution_count": 9,
     "metadata": {},
     "output_type": "execute_result"
    }
   ],
   "source": [
    "A = Matrix([\n",
    "    [5,1,-2,4],\n",
    "    [0,5,2,2],\n",
    "    [0,0,5,3],\n",
    "    [0,0,0,4]\n",
    "])\n",
    "A"
   ]
  },
  {
   "cell_type": "markdown",
   "id": "8aacc2ee-ea71-40d3-9bef-01452fe24e7a",
   "metadata": {},
   "source": [
    "To find the Jordan canonical form and the change of basis matrix, first, we need to calculate the spectrume of the matrix"
   ]
  },
  {
   "cell_type": "code",
   "execution_count": 10,
   "id": "30a5fde2-3ffe-4520-bbe4-177ff0d41856",
   "metadata": {},
   "outputs": [
    {
     "data": {
      "text/plain": [
       "{4: 1, 5: 3}"
      ]
     },
     "execution_count": 10,
     "metadata": {},
     "output_type": "execute_result"
    }
   ],
   "source": [
    "A.eigenvals()"
   ]
  },
  {
   "cell_type": "markdown",
   "id": "178c6f31-1c94-4a8f-9906-044a4d6191c8",
   "metadata": {},
   "source": [
    "Then for each of these eigenvalues we need to find the generalized eigenspaces. For the case where $ \\lambda=4 $, since the multiplicity of the eigenvalue is one, the generalized eigenspace is the same as the eigenspace spanned by the classic eigenvectors. This is the same as of $ ker(A-\\lambda I) $."
   ]
  },
  {
   "cell_type": "code",
   "execution_count": 12,
   "id": "94e5d3fe-355b-4a76-924f-d0c03f3e4f3c",
   "metadata": {},
   "outputs": [
    {
     "data": {
      "text/latex": [
       "$\\displaystyle \\left[\\begin{matrix}-14\\\\4\\\\-3\\\\1\\end{matrix}\\right]$"
      ],
      "text/plain": [
       "Matrix([\n",
       "[-14],\n",
       "[  4],\n",
       "[ -3],\n",
       "[  1]])"
      ]
     },
     "execution_count": 12,
     "metadata": {},
     "output_type": "execute_result"
    }
   ],
   "source": [
    "I = sp.eye(4)\n",
    "(A-4*I).nullspace()[0]"
   ]
  },
  {
   "cell_type": "markdown",
   "id": "8964e3e7-1c79-42ee-b725-8322883c5a61",
   "metadata": {},
   "source": [
    "Now we consider the more interesting case $ \\lambda = 5 $. In this case the multiplicity is 3. First, we compute the eigenvectors corresponding to this eigenvalue. The eigenvector is\n",
    "$$ v = (1,0,0,0)^T $$"
   ]
  },
  {
   "cell_type": "code",
   "execution_count": 20,
   "id": "d1955fc9-c9df-4071-b438-a30ad30f01c1",
   "metadata": {},
   "outputs": [
    {
     "data": {
      "text/latex": [
       "$\\displaystyle \\left[\\begin{matrix}1\\\\0\\\\0\\\\0\\end{matrix}\\right]$"
      ],
      "text/plain": [
       "Matrix([\n",
       "[1],\n",
       "[0],\n",
       "[0],\n",
       "[0]])"
      ]
     },
     "execution_count": 20,
     "metadata": {},
     "output_type": "execute_result"
    }
   ],
   "source": [
    "I = sp.eye(4)\n",
    "vees = (A-5*I).nullspace()\n",
    "vees[0]"
   ]
  },
  {
   "cell_type": "markdown",
   "id": "5f45b5cd-2b5b-4490-a3af-8505150ec85a",
   "metadata": {},
   "source": [
    "There is only one of them (we were expecting to see three!). So the matrix is defficient and the geometric multiplicity of $ \\lambda $ (that is 1, which corresponds to one eigenvector found above) does not match with the algebraic multiplicity (that is 3, which is the algebraic multiplicity of the root).\n",
    "\n",
    "Here, we present two ways to perform the calculation:"
   ]
  },
  {
   "cell_type": "markdown",
   "id": "fd821e4f-cf43-486f-b7b9-d70f2147b0d6",
   "metadata": {},
   "source": [
    "### First method"
   ]
  },
  {
   "cell_type": "markdown",
   "id": "792478a8-580d-4483-a56f-d88bdfeb4818",
   "metadata": {},
   "source": [
    "To find the generalized eigenvectors, we need to find the Jordan chain for this eigenvector. The first generalized eigenvector $ v' $ can be found by solving\n",
    "\n",
    "$$ (A - \\lambda I)v' = v. $$"
   ]
  },
  {
   "cell_type": "code",
   "execution_count": 22,
   "id": "93c03b65-6a0c-4cea-9440-b03b3570d5bc",
   "metadata": {},
   "outputs": [
    {
     "name": "stdout",
     "output_type": "stream",
     "text": [
      "{(x1, 1, 0, 0)}\n"
     ]
    }
   ],
   "source": [
    "v = vees[0]\n",
    "x1, x2, x3, x4 = sp.symbols('x1 x2 x3 x4')\n",
    "sol = sp.linsolve(((A-5*I), v), x1, x2, x3, x4)\n",
    "print(sol)"
   ]
  },
  {
   "cell_type": "markdown",
   "id": "900d6089-326b-44f2-bff2-26c439539af7",
   "metadata": {},
   "source": [
    "There is no restriction on $ x_1 $. We set it to be zero. So we now have $ v' $ as below\n",
    "$$ v' = (0,1,0,0)^T $$"
   ]
  },
  {
   "cell_type": "code",
   "execution_count": 42,
   "id": "e701a085-d6bb-4cdc-9627-59496cb5c656",
   "metadata": {},
   "outputs": [],
   "source": [
    "v_p = Matrix([0,1,0,0])"
   ]
  },
  {
   "cell_type": "markdown",
   "id": "0775d58e-8a32-4760-973f-b94ec7856c1b",
   "metadata": {},
   "source": [
    "Furthermore, to calculate the second generalized eigenvector, we need to solve\n",
    "$$  (A-\\lambda I)v'' = v'.  $$"
   ]
  },
  {
   "cell_type": "code",
   "execution_count": 43,
   "id": "bb0f234a-aab9-4c63-81f5-c430550b58ce",
   "metadata": {},
   "outputs": [
    {
     "name": "stdout",
     "output_type": "stream",
     "text": [
      "{(x1, 1, 1/2, 0)}\n"
     ]
    }
   ],
   "source": [
    "x1, x2, x3, x4 = sp.symbols('x1 x2 x3 x4')\n",
    "sol = sp.linsolve(((A-5*I), v_p), x1, x2, x3, x4)\n",
    "print(sol)"
   ]
  },
  {
   "cell_type": "markdown",
   "id": "bf487523-6799-42a6-a1b9-91875c46f2e1",
   "metadata": {},
   "source": [
    "Again, there is no restriction on $ x_1 $ and we choos it to be $1$. So we have calculated\n",
    "$$ v'' = (0,1,1/2,0) $$"
   ]
  },
  {
   "cell_type": "markdown",
   "id": "7c0ba5ac-5a81-42c8-a344-abaf7326dd4f",
   "metadata": {},
   "source": [
    "Now we can construct the change of basis matrix $P$ that can transform that matrix $A$ to its Jordan block form. The columns of this matrix is the generalized eigenvectors"
   ]
  },
  {
   "cell_type": "code",
   "execution_count": 52,
   "id": "660ac8f1-9e02-42c1-ba4d-db5ecd4dc45a",
   "metadata": {},
   "outputs": [],
   "source": [
    "P = Matrix([\n",
    "    [-14, 1, 0, 0],\n",
    "    [4, 0, 1, 1],\n",
    "    [-3, 0, 0, 1/2],\n",
    "    [1, 0, 0, 0]\n",
    "])"
   ]
  },
  {
   "cell_type": "markdown",
   "id": "d1af21ca-09ed-4186-9b88-3a1febb65392",
   "metadata": {},
   "source": [
    "So we can verify all our calculation above by"
   ]
  },
  {
   "cell_type": "code",
   "execution_count": 54,
   "id": "487e0630-f8fb-4ede-9472-174e0dfc1fe6",
   "metadata": {},
   "outputs": [
    {
     "data": {
      "text/latex": [
       "$\\displaystyle \\left[\\begin{matrix}4.0 & 0 & 0 & 0\\\\0.0 & 5.0 & 1.0 & 0.0\\\\0.0 & 0 & 5.0 & 1.0\\\\0 & 0 & 0 & 5.0\\end{matrix}\\right]$"
      ],
      "text/plain": [
       "Matrix([\n",
       "[4.0,   0,   0,   0],\n",
       "[0.0, 5.0, 1.0, 0.0],\n",
       "[0.0,   0, 5.0, 1.0],\n",
       "[  0,   0,   0, 5.0]])"
      ]
     },
     "execution_count": 54,
     "metadata": {},
     "output_type": "execute_result"
    }
   ],
   "source": [
    "(P.inv() * A * P).applyfunc(lambda x: round(x, 2))"
   ]
  },
  {
   "cell_type": "markdown",
   "id": "2ce2629c-e389-4013-abf3-e657de466429",
   "metadata": {},
   "source": [
    "### Second method"
   ]
  },
  {
   "cell_type": "markdown",
   "id": "55b10dc5-eeb9-4ae2-b27d-8709ee7a6c2f",
   "metadata": {},
   "source": [
    "In the second method we first find the highest rank generalized eigenvector and from that we find the lower rank ones. I.e. we want to find $w$ such that\n",
    "$$ (A-\\lambda I)^3w = 0, \\qquad \\text{and} \\qquad (A-\\lambda I)^2w \\neq 0. $$"
   ]
  },
  {
   "cell_type": "markdown",
   "id": "9430827c-679c-4bbf-9133-d1650515b38b",
   "metadata": {},
   "source": [
    "Why power 3? Because that is the first power that the matrix $ (A-\\lambda I)^3 $ has rank $1= n - \\mu$, where $\\mu$ is the algebraic multiplicity of the eigenvalue (so $n=4$, and $\\mu=3$)."
   ]
  },
  {
   "cell_type": "code",
   "execution_count": 57,
   "id": "615dc9b6-650d-4d50-b50b-e9a437ce9d56",
   "metadata": {},
   "outputs": [
    {
     "name": "stdout",
     "output_type": "stream",
     "text": [
      "{(x1, x2, x3, 0)}\n"
     ]
    }
   ],
   "source": [
    "x1, x2, x3, x4 = sp.symbols('x1 x2 x3 x4')\n",
    "sol = sp.linsolve(((A-5*I)**3, v*0), x1, x2, x3, x4)\n",
    "print(sol)"
   ]
  },
  {
   "cell_type": "code",
   "execution_count": 58,
   "id": "9fe31be8-462e-4221-8e80-8b4e2dfb0255",
   "metadata": {},
   "outputs": [
    {
     "name": "stdout",
     "output_type": "stream",
     "text": [
      "{(x1, x2, 0, 0)}\n"
     ]
    }
   ],
   "source": [
    "sol = sp.linsolve(((A-5*I)**2, v*0), x1, x2, x3, x4)\n",
    "print(sol)"
   ]
  },
  {
   "cell_type": "markdown",
   "id": "031e70fe-f069-4afc-899c-68b0db1603e1",
   "metadata": {},
   "source": [
    "So we need to have $x_3 \\neq 0$ and $x_4=0$. There are no further restrictions on $x_2$, and $x_1$. One possible chice is\n",
    "\n",
    "$$ w = (0,0,1,0). $$"
   ]
  },
  {
   "cell_type": "code",
   "execution_count": 80,
   "id": "094268a9-3c25-444e-8746-80b6915f768b",
   "metadata": {},
   "outputs": [],
   "source": [
    "w = Matrix([0,0,1,0])\n",
    "# w = Matrix([1,1,1/2,0])"
   ]
  },
  {
   "cell_type": "markdown",
   "id": "6a46f25f-72f9-4cdf-925b-49fb3f5d0b4d",
   "metadata": {},
   "source": [
    "So the second generalized eigenvector will be\n",
    "$$ w_p = (-2,2,0,0) $$"
   ]
  },
  {
   "cell_type": "code",
   "execution_count": 81,
   "id": "0bfed6e4-39ce-4578-8683-ca1abd3b93ac",
   "metadata": {},
   "outputs": [
    {
     "data": {
      "text/latex": [
       "$\\displaystyle \\left[\\begin{matrix}-2\\\\2\\\\0\\\\0\\end{matrix}\\right]$"
      ],
      "text/plain": [
       "Matrix([\n",
       "[-2],\n",
       "[ 2],\n",
       "[ 0],\n",
       "[ 0]])"
      ]
     },
     "execution_count": 81,
     "metadata": {},
     "output_type": "execute_result"
    }
   ],
   "source": [
    "w_p = (A - 5*I) * w\n",
    "w_p"
   ]
  },
  {
   "cell_type": "markdown",
   "id": "d0cbe0fd-63f3-4369-9098-23198a224543",
   "metadata": {},
   "source": [
    "and lastly, the last generalized eigenvector will be\n",
    "$$ w_p = (2,0,0,0) $$"
   ]
  },
  {
   "cell_type": "code",
   "execution_count": 82,
   "id": "7df45864-5745-4b90-b585-1cf654730430",
   "metadata": {},
   "outputs": [
    {
     "data": {
      "text/latex": [
       "$\\displaystyle \\left[\\begin{matrix}2\\\\0\\\\0\\\\0\\end{matrix}\\right]$"
      ],
      "text/plain": [
       "Matrix([\n",
       "[2],\n",
       "[0],\n",
       "[0],\n",
       "[0]])"
      ]
     },
     "execution_count": 82,
     "metadata": {},
     "output_type": "execute_result"
    }
   ],
   "source": [
    "w_pp = (A - 5*I) * w_p\n",
    "w_pp"
   ]
  },
  {
   "cell_type": "markdown",
   "id": "f489ca25-280e-4582-8bb5-aff475073ae0",
   "metadata": {},
   "source": [
    "And to double check the calculations we can calculate the change of basis matrix"
   ]
  },
  {
   "cell_type": "code",
   "execution_count": 83,
   "id": "ce80ef52-e74b-42dd-acb7-ecf894a22893",
   "metadata": {},
   "outputs": [],
   "source": [
    "P = Matrix([\n",
    "    [-14, 0, -2, 2],\n",
    "    [4, 0, 2, 0],\n",
    "    [-3, 1, 0, 0],\n",
    "    [1, 0, 0, 0]\n",
    "])"
   ]
  },
  {
   "cell_type": "code",
   "execution_count": 84,
   "id": "b771ff93-2a78-400b-b7ec-d05b0bd32af4",
   "metadata": {},
   "outputs": [
    {
     "data": {
      "text/latex": [
       "$\\displaystyle \\left[\\begin{matrix}4 & 0 & 0 & 0\\\\0 & 5 & 0 & 0\\\\0 & 1 & 5 & 0\\\\0 & 0 & 1 & 5\\end{matrix}\\right]$"
      ],
      "text/plain": [
       "Matrix([\n",
       "[4, 0, 0, 0],\n",
       "[0, 5, 0, 0],\n",
       "[0, 1, 5, 0],\n",
       "[0, 0, 1, 5]])"
      ]
     },
     "execution_count": 84,
     "metadata": {},
     "output_type": "execute_result"
    }
   ],
   "source": [
    "P.inv() * A * P"
   ]
  },
  {
   "cell_type": "code",
   "execution_count": null,
   "id": "e98f8b45-f9d8-4115-b5d4-d7b74a5927e4",
   "metadata": {},
   "outputs": [],
   "source": []
  },
  {
   "cell_type": "markdown",
   "id": "441d1f63-9a9c-4bf0-bc75-0b8da1848d13",
   "metadata": {},
   "source": [
    "# Another Example"
   ]
  },
  {
   "cell_type": "markdown",
   "id": "d2873a3c-8624-4732-8bf0-688f0591be77",
   "metadata": {},
   "source": [
    "`Important Note`: In the following, something strange happened. As usuall, I first calculated the eigenvalues and then eigenvectors and using each eigenvector I started to find the Jordan chain, hence the generalized eigenvectors, hence the generalized eigenspaces. Bue with the choice of $v_3$ as below, we can not find all three generalized eigenvectors (one of them is the classic eigenvalue). So then I used another eigenvector that I found by inspecting the Jordan form of this matrix using `A.jordan_form()`"
   ]
  },
  {
   "cell_type": "code",
   "execution_count": 191,
   "id": "69ac2e8b-554e-43c9-8077-48bc3f71e693",
   "metadata": {},
   "outputs": [
    {
     "data": {
      "text/latex": [
       "$\\displaystyle \\left[\\begin{matrix}1 & 0 & 0 & 0 & 0 & 0\\\\0 & 0 & 0 & 0 & -1 & 1\\\\-1 & -1 & 1 & 1 & -1 & 1\\\\0 & 0 & 0 & 1 & 0 & 0\\\\0 & 1 & 0 & 0 & 2 & 0\\\\0 & 0 & 0 & 0 & 0 & 1\\end{matrix}\\right]$"
      ],
      "text/plain": [
       "Matrix([\n",
       "[ 1,  0, 0, 0,  0, 0],\n",
       "[ 0,  0, 0, 0, -1, 1],\n",
       "[-1, -1, 1, 1, -1, 1],\n",
       "[ 0,  0, 0, 1,  0, 0],\n",
       "[ 0,  1, 0, 0,  2, 0],\n",
       "[ 0,  0, 0, 0,  0, 1]])"
      ]
     },
     "execution_count": 191,
     "metadata": {},
     "output_type": "execute_result"
    }
   ],
   "source": [
    "A = Matrix([[1,0,0,0,0,0],[0,0,0,0,-1,1],[-1,-1,1,1,-1,1],[0,0,0,1,0,0],[0,1,0,0,2,0],[0,0,0,0,0,1]])\n",
    "I = sp.eye(6)\n",
    "A"
   ]
  },
  {
   "cell_type": "markdown",
   "id": "2a0da8e0-1a87-452c-b898-b8feb5d95d67",
   "metadata": {},
   "source": [
    "First, let's calculate the eigenvalues. We have one eigenvalue $\\lambda = 1$ with multiplicity 6."
   ]
  },
  {
   "cell_type": "code",
   "execution_count": 273,
   "id": "ad812979-106a-4fa2-aafb-3fa59be5e80f",
   "metadata": {},
   "outputs": [
    {
     "data": {
      "text/plain": [
       "{1: 6}"
      ]
     },
     "execution_count": 273,
     "metadata": {},
     "output_type": "execute_result"
    }
   ],
   "source": [
    "A.eigenvals()\n"
   ]
  },
  {
   "cell_type": "markdown",
   "id": "dbb8d582-11b6-42ba-a678-9a19255fbe09",
   "metadata": {},
   "source": [
    "Now we calculate the eigenvectors corresponding to this eigenvalue"
   ]
  },
  {
   "cell_type": "code",
   "execution_count": 95,
   "id": "d373d136-4053-4710-a805-7c1ecd213656",
   "metadata": {},
   "outputs": [
    {
     "data": {
      "text/plain": [
       "[Matrix([\n",
       " [0],\n",
       " [0],\n",
       " [1],\n",
       " [0],\n",
       " [0],\n",
       " [0]]),\n",
       " Matrix([\n",
       " [1],\n",
       " [0],\n",
       " [0],\n",
       " [1],\n",
       " [0],\n",
       " [0]]),\n",
       " Matrix([\n",
       " [ 0],\n",
       " [-1],\n",
       " [ 0],\n",
       " [ 0],\n",
       " [ 1],\n",
       " [ 0]])]"
      ]
     },
     "execution_count": 95,
     "metadata": {},
     "output_type": "execute_result"
    }
   ],
   "source": [
    "vees = (A-I).nullspace()\n",
    "vees "
   ]
  },
  {
   "cell_type": "markdown",
   "id": "0f97a0f4-d6c7-4506-b53b-3fcf2b4f60f2",
   "metadata": {},
   "source": [
    "So we have three eigenvalues\n",
    "$$ v_1 = (0,0,1,0,0,0)^T, \\quad v_2=(1,0,0,1,0,0)^T, \\quad v_3=(0,-1,0,0,1,0)^T $$"
   ]
  },
  {
   "cell_type": "code",
   "execution_count": 275,
   "id": "2996ce79-9eb4-402b-a41c-b7e111fb26b5",
   "metadata": {},
   "outputs": [],
   "source": [
    "v1 = vees[0]\n",
    "v2 = vees[1]\n",
    "v3 = vees[2]  ## This eigen value is not working properly and needs to be replaced with another one later."
   ]
  },
  {
   "cell_type": "markdown",
   "id": "ee6a29f6-3764-48a9-ae60-3f6f184a2954",
   "metadata": {},
   "source": [
    "Now we aim to calculate the generalized eigenvectors by computing the Jordan chain for each of vectors above. We start with $v_1$."
   ]
  },
  {
   "cell_type": "markdown",
   "id": "885bf217-74cf-4bc7-ad64-9a0768df6bd1",
   "metadata": {},
   "source": [
    "We need to find $v_1'$ that satisfies\n",
    "$$ (A-I)v_1' = v_1. $$"
   ]
  },
  {
   "cell_type": "code",
   "execution_count": 109,
   "id": "91397160-95d8-4052-8574-0ba7b8f21f06",
   "metadata": {},
   "outputs": [
    {
     "name": "stdout",
     "output_type": "stream",
     "text": [
      "{(x4 - 1, -x5, x3, x4, x5, 0)}\n"
     ]
    }
   ],
   "source": [
    "x1, x2, x3, x4, x5, x6 = sp.symbols('x1 x2 x3 x4 x5 x6')\n",
    "sol = sp.linsolve(((A-I), v1), x1, x2, x3, x4, x5, x6)\n",
    "print(sol)"
   ]
  },
  {
   "cell_type": "markdown",
   "id": "ddadf014-ab7b-4e7d-b133-1d02af239da7",
   "metadata": {},
   "source": [
    "By choosing $x_3 = x_4 = x_5 = 0 $ we will get\n",
    "\n",
    "$$ v_1' = (-1,0,0,0,0,0)^T. $$"
   ]
  },
  {
   "cell_type": "code",
   "execution_count": 124,
   "id": "5f7a4518-69fc-418d-8848-a1fde4f4006f",
   "metadata": {},
   "outputs": [],
   "source": [
    "vp_1 = Matrix([-1,0,0,0,0,0])"
   ]
  },
  {
   "cell_type": "markdown",
   "id": "278c453b-d2da-4c2c-a7d2-6aa5188140db",
   "metadata": {},
   "source": [
    "We continue bulding the Jordan chain. So we aim at calculating $v''_1$ such that\n",
    "$$ (A-I)v''_1 = v'_1. $$"
   ]
  },
  {
   "cell_type": "code",
   "execution_count": 125,
   "id": "9ea285e9-5281-4e8a-9760-d4fc7f7bd48b",
   "metadata": {},
   "outputs": [
    {
     "name": "stdout",
     "output_type": "stream",
     "text": [
      "EmptySet\n"
     ]
    }
   ],
   "source": [
    "x1, x2, x3, x4, x5, x6 = sp.symbols('x1 x2 x3 x4 x5 x6')\n",
    "sol = sp.linsolve(((A-I), vp_1), x1, x2, x3, x4, x5, x6)\n",
    "print(sol)"
   ]
  },
  {
   "cell_type": "markdown",
   "id": "b92c487a-9b2a-437e-ac74-995747bc2226",
   "metadata": {},
   "source": [
    "So there is no further solution and the jordan chain terminates for this eigenvector. "
   ]
  },
  {
   "cell_type": "markdown",
   "id": "33edd94f-761e-4cd3-a6ab-cec8972642e9",
   "metadata": {},
   "source": [
    "We then start with the second eigenvector\n",
    "$$  v_2 = (1,0,0,1,0,0)^T $$"
   ]
  },
  {
   "cell_type": "markdown",
   "id": "b6205883-ad5a-4447-80b8-3f5e3a413c49",
   "metadata": {},
   "source": [
    "Similar to above, we solve the equation\n",
    "$$ (A-I)v'_2 = v_2. $$"
   ]
  },
  {
   "cell_type": "code",
   "execution_count": 240,
   "id": "83fd5f54-607c-44ef-8ce5-d3971759328d",
   "metadata": {},
   "outputs": [
    {
     "name": "stdout",
     "output_type": "stream",
     "text": [
      "EmptySet\n"
     ]
    }
   ],
   "source": [
    "x1, x2, x3, x4, x5, x6 = sp.symbols('x1 x2 x3 x4 x5 x6')\n",
    "sol = sp.linsolve(((A-I), v2), x1, x2, x3, x4, x5, x6)\n",
    "print(sol)"
   ]
  },
  {
   "cell_type": "markdown",
   "id": "67ab67d7-5f25-422c-9ee9-7a016efac371",
   "metadata": {},
   "source": [
    "There is no further generalized eigenvectors."
   ]
  },
  {
   "cell_type": "markdown",
   "id": "4a379e8d-64da-400c-b3a5-6210941caecd",
   "metadata": {},
   "source": [
    "Finally, we calculate the generalized eigenvectors for $v_3$. Similar to above we find $v'_3$ by solving\n",
    "$$ (A-I)v'_3 = v_3. $$"
   ]
  },
  {
   "cell_type": "code",
   "execution_count": 267,
   "id": "49da11fb-001d-4f5b-9b15-dbb2c72ecca4",
   "metadata": {},
   "outputs": [
    {
     "data": {
      "text/latex": [
       "$\\displaystyle \\left[\\begin{matrix}0\\\\-1\\\\-1\\\\0\\\\1\\\\0\\end{matrix}\\right]$"
      ],
      "text/plain": [
       "Matrix([\n",
       "[ 0],\n",
       "[-1],\n",
       "[-1],\n",
       "[ 0],\n",
       "[ 1],\n",
       "[ 0]])"
      ]
     },
     "execution_count": 267,
     "metadata": {},
     "output_type": "execute_result"
    }
   ],
   "source": [
    "## I don't know why, the eigenvector detected above (v3), is not working well and you can not find all the generalized eigenvectors. \n",
    "## Through trial and error I found the following eigenvector that seems to be working well to generate all eigenspaces\n",
    "v3 = Matrix([0,-1,-1,0,1,0])\n",
    "v3"
   ]
  },
  {
   "cell_type": "code",
   "execution_count": 264,
   "id": "b399fcc8-6cc8-4f39-8952-297a98c151f7",
   "metadata": {},
   "outputs": [
    {
     "name": "stdout",
     "output_type": "stream",
     "text": [
      "{(x4, 1 - x5, x3, x4, x5, 0)}\n"
     ]
    }
   ],
   "source": [
    "x1, x2, x3, x4, x5, x6 = sp.symbols('x1 x2 x3 x4 x5 x6')\n",
    "sol = sp.linsolve(((A-I), v3), x1, x2, x3, x4, x5, x6)\n",
    "print(sol)"
   ]
  },
  {
   "cell_type": "markdown",
   "id": "5e0696a1-b737-4d89-88f5-0e8ef72aeb19",
   "metadata": {},
   "source": [
    "by choosing $x_4 = x_5 = x_3 = 0$ we will get\n",
    "$$ v'_3 = (0,1,0,0,0,0). $$"
   ]
  },
  {
   "cell_type": "code",
   "execution_count": 265,
   "id": "e0f23786-7e38-4945-891a-7aca77ca1736",
   "metadata": {},
   "outputs": [],
   "source": [
    "# vp_3 = Matrix([0,0,1,1,1,0])\n",
    "vp_3 = Matrix([0,1,0,0,0,0])"
   ]
  },
  {
   "cell_type": "markdown",
   "id": "ca42df3f-8e6d-4670-9b36-ff6287bb21e4",
   "metadata": {},
   "source": [
    "In search for more generalized eigenvectors, we solve"
   ]
  },
  {
   "cell_type": "code",
   "execution_count": 266,
   "id": "ee0b12e6-8729-40ac-b049-b9f1aaa6aa3e",
   "metadata": {},
   "outputs": [
    {
     "name": "stdout",
     "output_type": "stream",
     "text": [
      "{(x4 + 1, -x5, x3, x4, x5, 1)}\n"
     ]
    }
   ],
   "source": [
    "x1, x2, x3, x4, x5, x6 = sp.symbols('x1 x2 x3 x4 x5 x6')\n",
    "sol = sp.linsolve(((A-I), vp_3), x1, x2, x3, x4, x5, x6)\n",
    "print(sol)"
   ]
  },
  {
   "cell_type": "markdown",
   "id": "97711272-9d84-4406-9d49-d1719360bdfd",
   "metadata": {},
   "source": [
    "So by letting $ x_4 = x_3 = x_5 = 0 $, we will get\n",
    "$$ v_3'' = (1,0,0,0,0,1) $$"
   ]
  },
  {
   "cell_type": "markdown",
   "id": "4c89e195-9d5e-45c7-ac31-f2af041bb5e1",
   "metadata": {},
   "source": [
    "In summary the generalized eigenvectors are\n",
    "$$ v_1 = (0,0,1,0,0,0),\\quad  v'_1=(-1,0,0,0,0,0) $$\n",
    "$$ v_2 = (1,0,0,1,0,0)$$\n",
    "$$ v_3 = (0,-1,-1,0,1,0), \\qquad v'_3 = (0,1,0,0,0,0), \\qquad v''_3 = (1,0,0,0,0,1).$$"
   ]
  },
  {
   "cell_type": "markdown",
   "id": "fa93fbd5-0c62-40f3-b03f-01b2af7d16b2",
   "metadata": {},
   "source": [
    "And we can verify there is no more generalized eigenvectors"
   ]
  },
  {
   "cell_type": "code",
   "execution_count": 269,
   "id": "e42413ad-c914-4e6d-830d-1746e1f4b686",
   "metadata": {},
   "outputs": [
    {
     "name": "stdout",
     "output_type": "stream",
     "text": [
      "EmptySet\n"
     ]
    }
   ],
   "source": [
    "vpp_3 = Matrix([1,0,0,0,0,1])\n",
    "x1, x2, x3, x4, x5, x6 = sp.symbols('x1 x2 x3 x4 x5 x6')\n",
    "sol = sp.linsolve(((A-I), vpp_3), x1, x2, x3, x4, x5, x6)\n",
    "print(sol)"
   ]
  },
  {
   "cell_type": "markdown",
   "id": "97266144-4f81-4dd5-b57c-fdaf4192652f",
   "metadata": {},
   "source": [
    "We can validate our computation by constructing the change of basis matrix"
   ]
  },
  {
   "cell_type": "code",
   "execution_count": 271,
   "id": "cb88c115-1fe4-4b2f-90cc-14db7529b93d",
   "metadata": {},
   "outputs": [
    {
     "data": {
      "text/latex": [
       "$\\displaystyle \\left[\\begin{matrix}0 & -1 & 1 & 0 & 0 & 1\\\\0 & 0 & 0 & -1 & 1 & 0\\\\1 & 0 & 0 & -1 & 0 & 0\\\\0 & 0 & 1 & 0 & 0 & 0\\\\0 & 0 & 0 & 1 & 0 & 0\\\\0 & 0 & 0 & 0 & 0 & 1\\end{matrix}\\right]$"
      ],
      "text/plain": [
       "Matrix([\n",
       "[0, -1, 1,  0, 0, 1],\n",
       "[0,  0, 0, -1, 1, 0],\n",
       "[1,  0, 0, -1, 0, 0],\n",
       "[0,  0, 1,  0, 0, 0],\n",
       "[0,  0, 0,  1, 0, 0],\n",
       "[0,  0, 0,  0, 0, 1]])"
      ]
     },
     "execution_count": 271,
     "metadata": {},
     "output_type": "execute_result"
    }
   ],
   "source": [
    "P = Matrix([\n",
    "    [0,-1,1,0,0,1],\n",
    "    [0,0,0,-1,1,0],\n",
    "    [1,0,0,-1,0,0],\n",
    "    [0,0,1,0,0,0],\n",
    "    [0,0,0,1,0,0],\n",
    "    [0,0,0,0,0,1]\n",
    "])\n",
    "P"
   ]
  },
  {
   "cell_type": "code",
   "execution_count": 272,
   "id": "57c39928-1ea0-4bdd-a1cb-d3c2368fc1b9",
   "metadata": {},
   "outputs": [
    {
     "data": {
      "text/latex": [
       "$\\displaystyle \\left[\\begin{matrix}1 & 1 & 0 & 0 & 0 & 0\\\\0 & 1 & 0 & 0 & 0 & 0\\\\0 & 0 & 1 & 0 & 0 & 0\\\\0 & 0 & 0 & 1 & 1 & 0\\\\0 & 0 & 0 & 0 & 1 & 1\\\\0 & 0 & 0 & 0 & 0 & 1\\end{matrix}\\right]$"
      ],
      "text/plain": [
       "Matrix([\n",
       "[1, 1, 0, 0, 0, 0],\n",
       "[0, 1, 0, 0, 0, 0],\n",
       "[0, 0, 1, 0, 0, 0],\n",
       "[0, 0, 0, 1, 1, 0],\n",
       "[0, 0, 0, 0, 1, 1],\n",
       "[0, 0, 0, 0, 0, 1]])"
      ]
     },
     "execution_count": 272,
     "metadata": {},
     "output_type": "execute_result"
    }
   ],
   "source": [
    "P.inv() * A * P"
   ]
  },
  {
   "cell_type": "code",
   "execution_count": null,
   "id": "d0f45950-99b5-474c-ba3b-170251e918c6",
   "metadata": {},
   "outputs": [],
   "source": []
  },
  {
   "cell_type": "markdown",
   "id": "3fb6424d-4d95-40b5-b63f-87480b764085",
   "metadata": {},
   "source": [
    "# Yet Another Example"
   ]
  },
  {
   "cell_type": "code",
   "execution_count": 322,
   "id": "144b9275-5ce3-42b0-85c4-3b181a02192a",
   "metadata": {},
   "outputs": [],
   "source": [
    "A = Matrix([\n",
    "    [0,1,-1,0],\n",
    "    [0,0,0,-1],\n",
    "    [1,0,0,1],\n",
    "    [0,1,0,0]\n",
    "])\n",
    "I = sp.eye(4)"
   ]
  },
  {
   "cell_type": "code",
   "execution_count": 323,
   "id": "432c9048-440c-4dfd-8dbf-7043b568b817",
   "metadata": {},
   "outputs": [
    {
     "data": {
      "text/plain": [
       "{-I: 2, I: 2}"
      ]
     },
     "execution_count": 323,
     "metadata": {},
     "output_type": "execute_result"
    }
   ],
   "source": [
    "A.eigenvals()"
   ]
  },
  {
   "cell_type": "code",
   "execution_count": 324,
   "id": "bd3fd0d9-e523-47e9-8661-70f5f7e56b26",
   "metadata": {},
   "outputs": [
    {
     "data": {
      "text/plain": [
       "[Matrix([\n",
       " [1.0*I],\n",
       " [    0],\n",
       " [    1],\n",
       " [    0]])]"
      ]
     },
     "execution_count": 324,
     "metadata": {},
     "output_type": "execute_result"
    }
   ],
   "source": [
    "lam = 1j\n",
    "vees = (A-I*lam).nullspace()\n",
    "vees"
   ]
  },
  {
   "cell_type": "code",
   "execution_count": 325,
   "id": "03db18de-f25e-4231-981f-f4bd4bd63103",
   "metadata": {},
   "outputs": [
    {
     "data": {
      "text/latex": [
       "$\\displaystyle \\left[\\begin{matrix}1.0 i\\\\0\\\\1\\\\0\\end{matrix}\\right]$"
      ],
      "text/plain": [
       "Matrix([\n",
       "[1.0*I],\n",
       "[    0],\n",
       "[    1],\n",
       "[    0]])"
      ]
     },
     "execution_count": 325,
     "metadata": {},
     "output_type": "execute_result"
    }
   ],
   "source": [
    "v = vees[0]\n",
    "v"
   ]
  },
  {
   "cell_type": "code",
   "execution_count": 326,
   "id": "c57b12cb-9c9a-4b5a-a231-860887d8a41d",
   "metadata": {},
   "outputs": [
    {
     "name": "stdout",
     "output_type": "stream",
     "text": [
      "{(1.0*I*x3, 1.0*I, x3, 1.0)}\n"
     ]
    }
   ],
   "source": [
    "x1, x2, x3, x4 = sp.symbols('x1 x2 x3 x4')\n",
    "sol = sp.linsolve(((A-I*lam), v), x1, x2, x3, x4)\n",
    "print(sol)"
   ]
  },
  {
   "cell_type": "markdown",
   "id": "2867334e-46bd-4c8c-afb3-dc27a598b7e1",
   "metadata": {},
   "source": [
    "So\n",
    "$$ v_1^1 = (i,0,1,0), \\qquad v_1^2 = (0,i,0,1) $$"
   ]
  },
  {
   "cell_type": "markdown",
   "id": "858518b7-9a53-490f-b94a-57252d7627e7",
   "metadata": {},
   "source": [
    "and for the second eigenvector"
   ]
  },
  {
   "cell_type": "code",
   "execution_count": 327,
   "id": "68d8cd6e-6b84-4bce-97ac-150af19af698",
   "metadata": {},
   "outputs": [
    {
     "data": {
      "text/plain": [
       "[Matrix([\n",
       " [-1.0*I],\n",
       " [     0],\n",
       " [     1],\n",
       " [     0]])]"
      ]
     },
     "execution_count": 327,
     "metadata": {},
     "output_type": "execute_result"
    }
   ],
   "source": [
    "lam = -1j\n",
    "vees = (A-I*lam).nullspace()\n",
    "vees"
   ]
  },
  {
   "cell_type": "code",
   "execution_count": 328,
   "id": "4569576c-b64c-4b80-afd5-62bced5a4004",
   "metadata": {},
   "outputs": [
    {
     "data": {
      "text/latex": [
       "$\\displaystyle \\left[\\begin{matrix}- 1.0 i\\\\0\\\\1\\\\0\\end{matrix}\\right]$"
      ],
      "text/plain": [
       "Matrix([\n",
       "[-1.0*I],\n",
       "[     0],\n",
       "[     1],\n",
       "[     0]])"
      ]
     },
     "execution_count": 328,
     "metadata": {},
     "output_type": "execute_result"
    }
   ],
   "source": [
    "v = vees[0]\n",
    "v"
   ]
  },
  {
   "cell_type": "code",
   "execution_count": 329,
   "id": "97041b19-c562-4c93-be50-e1341aab2976",
   "metadata": {},
   "outputs": [
    {
     "name": "stdout",
     "output_type": "stream",
     "text": [
      "{(-1.0*I*x3, -1.0*I, x3, 1.0)}\n"
     ]
    }
   ],
   "source": [
    "x1, x2, x3, x4 = sp.symbols('x1 x2 x3 x4')\n",
    "sol = sp.linsolve(((A-I*lam), v), x1, x2, x3, x4)\n",
    "print(sol)"
   ]
  },
  {
   "cell_type": "markdown",
   "id": "745e40b1-275a-4dd0-a513-ca76c3870fa1",
   "metadata": {},
   "source": [
    "So\n",
    "$$ v_2^1 = (-i,0,1,0), \\qquad v_2^2 = (0,-i,0,1) $$"
   ]
  },
  {
   "cell_type": "markdown",
   "id": "cac1db11-630e-4ec7-924d-88354b9706f0",
   "metadata": {},
   "source": [
    "Then the change of basis matrix will be\n"
   ]
  },
  {
   "cell_type": "code",
   "execution_count": 330,
   "id": "83e2d368-79aa-4eca-8654-176be9259dd4",
   "metadata": {},
   "outputs": [],
   "source": [
    "P = Matrix([\n",
    "    [1j,0,-1j,0],\n",
    "    [0,1j,0,-1j],\n",
    "    [1,0,1,0],\n",
    "    [0,1,0,1]\n",
    "])"
   ]
  },
  {
   "cell_type": "code",
   "execution_count": 331,
   "id": "1027fa4b-6ff0-4221-a5b8-493acbc483da",
   "metadata": {},
   "outputs": [
    {
     "data": {
      "text/latex": [
       "$\\displaystyle \\left[\\begin{matrix}1.0 i & 1.0 & 0 & 0\\\\0 & 1.0 i & 0 & 0\\\\0 & 0 & - 1.0 i & 1.0\\\\0 & 0 & 0 & - 1.0 i\\end{matrix}\\right]$"
      ],
      "text/plain": [
       "Matrix([\n",
       "[1.0*I,   1.0,      0,      0],\n",
       "[    0, 1.0*I,      0,      0],\n",
       "[    0,     0, -1.0*I,    1.0],\n",
       "[    0,     0,      0, -1.0*I]])"
      ]
     },
     "execution_count": 331,
     "metadata": {},
     "output_type": "execute_result"
    }
   ],
   "source": [
    "P.inv() * A * P"
   ]
  },
  {
   "cell_type": "code",
   "execution_count": null,
   "id": "c70e43e3-47b0-4d5e-823a-f0ce946db488",
   "metadata": {},
   "outputs": [],
   "source": []
  },
  {
   "cell_type": "code",
   "execution_count": null,
   "id": "7268f89c-a3d0-4bd9-9ef0-762a63569be8",
   "metadata": {},
   "outputs": [],
   "source": []
  },
  {
   "cell_type": "code",
   "execution_count": null,
   "id": "b31148e3-fbe6-4b65-9470-58224202f2e0",
   "metadata": {},
   "outputs": [],
   "source": []
  },
  {
   "cell_type": "code",
   "execution_count": null,
   "id": "8bc880bb-1193-4bfd-9126-ea08cc7ab218",
   "metadata": {},
   "outputs": [],
   "source": []
  }
 ],
 "metadata": {
  "kernelspec": {
   "display_name": "Python 3 (ipykernel)",
   "language": "python",
   "name": "python3"
  },
  "language_info": {
   "codemirror_mode": {
    "name": "ipython",
    "version": 3
   },
   "file_extension": ".py",
   "mimetype": "text/x-python",
   "name": "python",
   "nbconvert_exporter": "python",
   "pygments_lexer": "ipython3",
   "version": "3.10.12"
  }
 },
 "nbformat": 4,
 "nbformat_minor": 5
}
