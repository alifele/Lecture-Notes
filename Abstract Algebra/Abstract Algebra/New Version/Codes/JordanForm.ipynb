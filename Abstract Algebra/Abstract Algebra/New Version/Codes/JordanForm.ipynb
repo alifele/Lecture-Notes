{
 "cells": [
  {
   "cell_type": "code",
   "execution_count": 1,
   "id": "d78e780e-66da-435a-9ed6-f06ca805e558",
   "metadata": {},
   "outputs": [],
   "source": [
    "from sympy import Matrix\n",
    "import sympy as sp\n",
    "\n",
    "# Define the matrix\n",
    "\n",
    "# Perform row reduction (RREF - Reduced Row Echelon Form)\n",
    "# rref_matrix, pivot_columns = A_sym.rref()\n",
    "\n",
    "\n",
    "def imageBasis(matrix):\n",
    "    colSpace = matrix.columnspace()  # List of basis vectors\n",
    "    return Matrix.hstack(*colSpace[:])  # Stack the first two vectors into a matrix\n",
    "\n",
    "\n",
    "\n",
    "def kernelBasis(matrix):\n",
    "    \"\"\"Computes a basis for the null space (kernel) of a matrix.\"\"\"\n",
    "    nullSpace = matrix.nullspace()\n",
    "    return Matrix.hstack(*nullSpace[:])   # Returns a list of basis vectors for the null space\n",
    "\n",
    "\n",
    "def restrictTo(A,M):\n",
    "    \"\"\"\n",
    "    Note that colSpace(B) should be image of A (thus A invariant)\n",
    "    \"\"\"\n",
    "    b11, b12, b21, b22 = sp.symbols('b11 b12 b21 b22')\n",
    "    B = sp.Matrix([[b11, b12], [b21, b22]])\n",
    "\n",
    "    # Define the equation A*M = M*B\n",
    "    eq = A * M - M * B  # This is a 3x2 matrix equation\n",
    "    \n",
    "    # Solve for B (each element of the matrix equation must be zero)\n",
    "    solutions = sp.solve(eq, [b11, b12, b21, b22])\n",
    "    \n",
    "    # Display results\n",
    "    B_solution = B.subs(solutions)\n",
    "    return B_solution\n",
    "    \n",
    "\n",
    "\n",
    "    "
   ]
  },
  {
   "cell_type": "code",
   "execution_count": 10,
   "id": "ad011d14-0896-4b03-b679-45b7bbfb8a2c",
   "metadata": {},
   "outputs": [
    {
     "data": {
      "text/latex": [
       "$\\displaystyle \\left[\\begin{matrix}-16 & -20 & 34\\\\2 & 52 & -29\\\\0 & 72 & -36\\end{matrix}\\right]$"
      ],
      "text/plain": [
       "Matrix([\n",
       "[-16, -20,  34],\n",
       "[  2,  52, -29],\n",
       "[  0,  72, -36]])"
      ]
     },
     "execution_count": 10,
     "metadata": {},
     "output_type": "execute_result"
    }
   ],
   "source": [
    "A = Matrix([[-16, -20, 34], [2, 52, -29], [0, 72, -36]])\n",
    "A"
   ]
  },
  {
   "cell_type": "code",
   "execution_count": 2,
   "id": "dead4815-150b-4257-b682-1bf118ac414f",
   "metadata": {},
   "outputs": [
    {
     "data": {
      "text/latex": [
       "$\\displaystyle \\left[\\begin{matrix}-16 & -20\\\\2 & 52\\\\0 & 72\\end{matrix}\\right]$"
      ],
      "text/plain": [
       "Matrix([\n",
       "[-16, -20],\n",
       "[  2,  52],\n",
       "[  0,  72]])"
      ]
     },
     "execution_count": 2,
     "metadata": {},
     "output_type": "execute_result"
    }
   ],
   "source": [
    "im = imageBasis(A)\n",
    "im"
   ]
  },
  {
   "cell_type": "code",
   "execution_count": 12,
   "id": "ee2602f8-c18a-47bd-8699-5508aacb9ac2",
   "metadata": {},
   "outputs": [
    {
     "data": {
      "text/latex": [
       "$\\displaystyle \\left[\\begin{matrix}\\frac{3}{2}\\\\\\frac{1}{2}\\\\1\\end{matrix}\\right]$"
      ],
      "text/plain": [
       "Matrix([\n",
       "[3/2],\n",
       "[1/2],\n",
       "[  1]])"
      ]
     },
     "execution_count": 12,
     "metadata": {},
     "output_type": "execute_result"
    }
   ],
   "source": [
    "ker = kernelBasis(A)\n",
    "ker"
   ]
  },
  {
   "cell_type": "code",
   "execution_count": 13,
   "id": "e3069df9-eb3f-40c1-9b3e-9e5ddbd96937",
   "metadata": {},
   "outputs": [
    {
     "data": {
      "text/latex": [
       "$\\displaystyle \\left[\\begin{matrix}-16 & -128\\\\2 & 16\\end{matrix}\\right]$"
      ],
      "text/plain": [
       "Matrix([\n",
       "[-16, -128],\n",
       "[  2,   16]])"
      ]
     },
     "execution_count": 13,
     "metadata": {},
     "output_type": "execute_result"
    }
   ],
   "source": [
    "A_im = restrictTo(A,im)\n",
    "A_im"
   ]
  },
  {
   "cell_type": "code",
   "execution_count": 14,
   "id": "cc1420d3-07a3-43d5-b860-902988d1af31",
   "metadata": {},
   "outputs": [
    {
     "data": {
      "text/latex": [
       "$\\displaystyle \\left[\\begin{matrix}-16\\\\2\\end{matrix}\\right]$"
      ],
      "text/plain": [
       "Matrix([\n",
       "[-16],\n",
       "[  2]])"
      ]
     },
     "execution_count": 14,
     "metadata": {},
     "output_type": "execute_result"
    }
   ],
   "source": [
    "imageBasis(A_im)"
   ]
  },
  {
   "cell_type": "code",
   "execution_count": 167,
   "id": "634a4a18-bb5a-4d8f-a3c8-fbc7812ce7d0",
   "metadata": {},
   "outputs": [
    {
     "data": {
      "text/latex": [
       "$\\displaystyle \\left[\\begin{matrix}-8\\\\1\\end{matrix}\\right]$"
      ],
      "text/plain": [
       "Matrix([\n",
       "[-8],\n",
       "[ 1]])"
      ]
     },
     "execution_count": 167,
     "metadata": {},
     "output_type": "execute_result"
    }
   ],
   "source": [
    "kernelBasis(A_im)"
   ]
  },
  {
   "cell_type": "code",
   "execution_count": null,
   "id": "d0a0cef3-8765-4ea8-8753-b1bfcdd8172c",
   "metadata": {},
   "outputs": [],
   "source": []
  },
  {
   "cell_type": "code",
   "execution_count": null,
   "id": "c7c644aa-50d8-409a-8a54-d80296491176",
   "metadata": {},
   "outputs": [],
   "source": []
  },
  {
   "cell_type": "code",
   "execution_count": 168,
   "id": "70647e15-20a8-4385-8b23-20f3fd876b81",
   "metadata": {},
   "outputs": [],
   "source": [
    "b3 = A.pinv() * (im[:,0])\n",
    "b2 = im[:,0]\n",
    "b1 = -8*im[:,0] + im[:,1]"
   ]
  },
  {
   "cell_type": "code",
   "execution_count": 169,
   "id": "22f772da-2300-49d2-aba8-eec34dc69140",
   "metadata": {},
   "outputs": [
    {
     "data": {
      "text/latex": [
       "$\\displaystyle \\left[\\begin{matrix}108\\\\36\\\\72\\end{matrix}\\right]$"
      ],
      "text/plain": [
       "Matrix([\n",
       "[108],\n",
       "[ 36],\n",
       "[ 72]])"
      ]
     },
     "execution_count": 169,
     "metadata": {},
     "output_type": "execute_result"
    }
   ],
   "source": [
    "b1"
   ]
  },
  {
   "cell_type": "code",
   "execution_count": 170,
   "id": "802ca4a0-1ec5-459c-9667-e18cb4bc36ab",
   "metadata": {},
   "outputs": [
    {
     "data": {
      "text/latex": [
       "$\\displaystyle \\left[\\begin{matrix}-16\\\\2\\\\0\\end{matrix}\\right]$"
      ],
      "text/plain": [
       "Matrix([\n",
       "[-16],\n",
       "[  2],\n",
       "[  0]])"
      ]
     },
     "execution_count": 170,
     "metadata": {},
     "output_type": "execute_result"
    }
   ],
   "source": [
    "b2"
   ]
  },
  {
   "cell_type": "code",
   "execution_count": 171,
   "id": "1b4e944d-a23b-4292-94c8-90fe5627ac9f",
   "metadata": {},
   "outputs": [
    {
     "data": {
      "text/latex": [
       "$\\displaystyle \\left[\\begin{matrix}\\frac{5}{14}\\\\- \\frac{3}{14}\\\\- \\frac{3}{7}\\end{matrix}\\right]$"
      ],
      "text/plain": [
       "Matrix([\n",
       "[ 5/14],\n",
       "[-3/14],\n",
       "[ -3/7]])"
      ]
     },
     "execution_count": 171,
     "metadata": {},
     "output_type": "execute_result"
    }
   ],
   "source": [
    "b3"
   ]
  },
  {
   "cell_type": "code",
   "execution_count": 172,
   "id": "0648fba8-b056-4441-8220-ca90d8c2df79",
   "metadata": {},
   "outputs": [
    {
     "data": {
      "text/latex": [
       "$\\displaystyle \\left[\\begin{matrix}0\\\\0\\\\0\\end{matrix}\\right]$"
      ],
      "text/plain": [
       "Matrix([\n",
       "[0],\n",
       "[0],\n",
       "[0]])"
      ]
     },
     "execution_count": 172,
     "metadata": {},
     "output_type": "execute_result"
    }
   ],
   "source": [
    "A*b1"
   ]
  },
  {
   "cell_type": "code",
   "execution_count": 173,
   "id": "c5bd0f57-1151-4a44-8ecc-71d58b60d3be",
   "metadata": {},
   "outputs": [
    {
     "data": {
      "text/latex": [
       "$\\displaystyle \\left[\\begin{matrix}216\\\\72\\\\144\\end{matrix}\\right]$"
      ],
      "text/plain": [
       "Matrix([\n",
       "[216],\n",
       "[ 72],\n",
       "[144]])"
      ]
     },
     "execution_count": 173,
     "metadata": {},
     "output_type": "execute_result"
    }
   ],
   "source": [
    "A*b2"
   ]
  },
  {
   "cell_type": "code",
   "execution_count": 174,
   "id": "151dd487-eb5f-493d-aca3-46feb7a0747e",
   "metadata": {},
   "outputs": [
    {
     "data": {
      "text/latex": [
       "$\\displaystyle \\left[\\begin{matrix}0\\\\0\\\\0\\end{matrix}\\right]$"
      ],
      "text/plain": [
       "Matrix([\n",
       "[0],\n",
       "[0],\n",
       "[0]])"
      ]
     },
     "execution_count": 174,
     "metadata": {},
     "output_type": "execute_result"
    }
   ],
   "source": [
    "A*A*b2"
   ]
  },
  {
   "cell_type": "code",
   "execution_count": 175,
   "id": "c094dbd5-6292-44c6-84bb-785346c5a35d",
   "metadata": {},
   "outputs": [
    {
     "data": {
      "text/latex": [
       "$\\displaystyle \\left[\\begin{matrix}-16\\\\2\\\\0\\end{matrix}\\right]$"
      ],
      "text/plain": [
       "Matrix([\n",
       "[-16],\n",
       "[  2],\n",
       "[  0]])"
      ]
     },
     "execution_count": 175,
     "metadata": {},
     "output_type": "execute_result"
    }
   ],
   "source": [
    "A*b3"
   ]
  },
  {
   "cell_type": "code",
   "execution_count": 176,
   "id": "965d0bdd-9de4-4ae4-b339-2578527201d0",
   "metadata": {},
   "outputs": [
    {
     "data": {
      "text/latex": [
       "$\\displaystyle \\left[\\begin{matrix}216\\\\72\\\\144\\end{matrix}\\right]$"
      ],
      "text/plain": [
       "Matrix([\n",
       "[216],\n",
       "[ 72],\n",
       "[144]])"
      ]
     },
     "execution_count": 176,
     "metadata": {},
     "output_type": "execute_result"
    }
   ],
   "source": [
    "A*A*b3"
   ]
  },
  {
   "cell_type": "code",
   "execution_count": 177,
   "id": "e7ca9650-a2af-4d95-ad74-3860f614aae4",
   "metadata": {},
   "outputs": [
    {
     "data": {
      "text/latex": [
       "$\\displaystyle \\left[\\begin{matrix}0\\\\0\\\\0\\end{matrix}\\right]$"
      ],
      "text/plain": [
       "Matrix([\n",
       "[0],\n",
       "[0],\n",
       "[0]])"
      ]
     },
     "execution_count": 177,
     "metadata": {},
     "output_type": "execute_result"
    }
   ],
   "source": [
    "A*A*A*b3"
   ]
  },
  {
   "cell_type": "code",
   "execution_count": null,
   "id": "ed9939b1-e29f-4c2b-9ad4-03118696f02a",
   "metadata": {},
   "outputs": [],
   "source": []
  }
 ],
 "metadata": {
  "kernelspec": {
   "display_name": "Python 3 (ipykernel)",
   "language": "python",
   "name": "python3"
  },
  "language_info": {
   "codemirror_mode": {
    "name": "ipython",
    "version": 3
   },
   "file_extension": ".py",
   "mimetype": "text/x-python",
   "name": "python",
   "nbconvert_exporter": "python",
   "pygments_lexer": "ipython3",
   "version": "3.10.12"
  }
 },
 "nbformat": 4,
 "nbformat_minor": 5
}
